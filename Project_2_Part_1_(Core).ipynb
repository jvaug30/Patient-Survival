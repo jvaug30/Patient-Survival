{
  "nbformat": 4,
  "nbformat_minor": 0,
  "metadata": {
    "colab": {
      "name": "Project_2_Part_1_(Core).ipynb",
      "provenance": [],
      "authorship_tag": "ABX9TyPWr6RenCOw5ey0MR26/LrU",
      "include_colab_link": true
    },
    "kernelspec": {
      "name": "python3",
      "display_name": "Python 3"
    },
    "language_info": {
      "name": "python"
    }
  },
  "cells": [
    {
      "cell_type": "markdown",
      "metadata": {
        "id": "view-in-github",
        "colab_type": "text"
      },
      "source": [
        "<a href=\"https://colab.research.google.com/github/jvaug30/Project-2/blob/main/Project_2_Part_1_(Core).ipynb\" target=\"_parent\"><img src=\"https://colab.research.google.com/assets/colab-badge.svg\" alt=\"Open In Colab\"/></a>"
      ]
    },
    {
      "cell_type": "markdown",
      "source": [
        "Project 2 Part 1 (Core)\n",
        "- Jacob L. Vaughn"
      ],
      "metadata": {
        "id": "XgZ2z0DX2Oov"
      }
    },
    {
      "cell_type": "markdown",
      "source": [
        "**First Choice Dataset**\n",
        "#1). Source of data\n",
        "Data World\n",
        "https://data.world/adamhelsinger/globe-project/workspace/file?filename=GLOBE-Phase-2-Aggregated-Leadership-Data.csv\n",
        "#2). Brief description of data\n",
        "Understanding the relationship between national culture, societal effectiveness and desirable leadership attributes.\n",
        "#3). What is the target?\n",
        "Target would be country.\n",
        "#4). Is this a classification or regression problem?\n",
        "Classification problem.\n",
        "#5). How many features?\n",
        "27 features\n",
        "#6). How many rows of data?\n",
        "61 rows of data.\n",
        "#7). What, if any, challenges do you foresee in cleaning, exploring, or modeling with this dataset?\n",
        "Challenges are going to be with the amount of features. Unsure, at the moment, if country is the best target.\n"
      ],
      "metadata": {
        "id": "R_VF4N1y1jmT"
      }
    },
    {
      "cell_type": "markdown",
      "source": [
        "**Second Choice Dataset**\n",
        "#1). Source of data\n",
        "Data World\n",
        "https://data.world/makeovermonday/2021w30a/workspace/file?filename=US%20Population%20by%20Race.xlsx\n",
        "#2). Brief description of data\n",
        "Data is percentages of race per state in the United States of America.\n",
        "#3). What is the target?\n",
        "Target would be the state/regions.\n",
        "#4). Is this a classification or regression problem?\n",
        "I assume this would be a regression problem.\n",
        "#5). How many features?\n",
        "7 features\n",
        "#6). How many rows of data?\n",
        "52 rows of data\n",
        "#7). What, if any, challenges do you foresee in cleaning, exploring, or modeling with this dataset?\n",
        "Possible problems will be with cleaning the data with NaN values. Exploring is limited to percentages. Modeling could be difficult with 7 features.\n"
      ],
      "metadata": {
        "id": "TAVYNavy172L"
      }
    },
    {
      "cell_type": "code",
      "execution_count": null,
      "metadata": {
        "id": "yqFUGAsCts4v"
      },
      "outputs": [],
      "source": [
        ""
      ]
    }
  ]
}